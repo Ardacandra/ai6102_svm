{
 "cells": [
  {
   "cell_type": "code",
   "execution_count": 1,
   "id": "3423ea84",
   "metadata": {},
   "outputs": [],
   "source": [
    "import os\n",
    "import numpy as np\n",
    "import pandas as pd\n",
    "\n",
    "from src.prepare import *"
   ]
  },
  {
   "cell_type": "code",
   "execution_count": 2,
   "id": "296258a2",
   "metadata": {},
   "outputs": [],
   "source": [
    "#config\n",
    "DATA_URL_TRAIN = \"https://www.csie.ntu.edu.tw/~cjlin/libsvmtools/datasets/binary/a9a\"\n",
    "DATA_URL_TEST = \"https://www.csie.ntu.edu.tw/~cjlin/libsvmtools/datasets/binary/a9a.t\"\n",
    "\n",
    "DATA_DIR = \"data/\""
   ]
  },
  {
   "cell_type": "code",
   "execution_count": 3,
   "id": "991c0385",
   "metadata": {},
   "outputs": [],
   "source": [
    "if not os.path.exists(DATA_DIR):\n",
    "    os.makedirs(DATA_DIR)"
   ]
  },
  {
   "cell_type": "markdown",
   "id": "de1a6f7c",
   "metadata": {},
   "source": [
    "### Download and store train and test dataset"
   ]
  },
  {
   "cell_type": "code",
   "execution_count": 4,
   "id": "9978d731",
   "metadata": {},
   "outputs": [],
   "source": [
    "download_data(DATA_URL_TRAIN, os.path.join(DATA_DIR, \"train_data.txt\"))"
   ]
  },
  {
   "cell_type": "code",
   "execution_count": 5,
   "id": "77143c8f",
   "metadata": {},
   "outputs": [],
   "source": [
    "download_data(DATA_URL_TEST, os.path.join(DATA_DIR, \"test_data.txt\"))"
   ]
  },
  {
   "cell_type": "code",
   "execution_count": null,
   "id": "f296931a",
   "metadata": {},
   "outputs": [],
   "source": []
  }
 ],
 "metadata": {
  "kernelspec": {
   "display_name": "base",
   "language": "python",
   "name": "python3"
  },
  "language_info": {
   "codemirror_mode": {
    "name": "ipython",
    "version": 3
   },
   "file_extension": ".py",
   "mimetype": "text/x-python",
   "name": "python",
   "nbconvert_exporter": "python",
   "pygments_lexer": "ipython3",
   "version": "3.13.2"
  }
 },
 "nbformat": 4,
 "nbformat_minor": 5
}
