{
 "cells": [
  {
   "cell_type": "code",
   "execution_count": 1,
   "id": "3423ea84",
   "metadata": {},
   "outputs": [],
   "source": [
    "import os\n",
    "import numpy as np\n",
    "import pandas as pd\n",
    "from sklearn.datasets import load_svmlight_file, load_svmlight_files\n",
    "from sklearn.model_selection import cross_val_score\n",
    "from sklearn.svm import SVC\n",
    "\n",
    "from src.prepare import *"
   ]
  },
  {
   "cell_type": "code",
   "execution_count": 2,
   "id": "296258a2",
   "metadata": {},
   "outputs": [],
   "source": [
    "#config\n",
    "DATA_URL_TRAIN = \"https://www.csie.ntu.edu.tw/~cjlin/libsvmtools/datasets/binary/a9a\"\n",
    "DATA_URL_TEST = \"https://www.csie.ntu.edu.tw/~cjlin/libsvmtools/datasets/binary/a9a.t\"\n",
    "\n",
    "DATA_DIR = \"data/\""
   ]
  },
  {
   "cell_type": "code",
   "execution_count": 3,
   "id": "991c0385",
   "metadata": {},
   "outputs": [],
   "source": [
    "if not os.path.exists(DATA_DIR):\n",
    "    os.makedirs(DATA_DIR)"
   ]
  },
  {
   "cell_type": "markdown",
   "id": "de1a6f7c",
   "metadata": {},
   "source": [
    "Download and store train and test dataset"
   ]
  },
  {
   "cell_type": "markdown",
   "id": "02a05ce4",
   "metadata": {},
   "source": [
    "Dataset information : \n",
    "\n",
    "- Source: UCI / Adult\n",
    "- Preprocessing: The original Adult data set has 14 features, among which six are continuous and eight are categorical. In this data set, continuous features are discretized into quantiles, and each quantile is represented by a binary feature. Also, a categorical feature with m categories is converted to m binary features. \n",
    "- Number of classes: 2\n",
    "- Number of data: 32,561 / 16,281 (testing)\n",
    "- Number of features: 123 / 123 (testing) "
   ]
  },
  {
   "cell_type": "code",
   "execution_count": 4,
   "id": "9978d731",
   "metadata": {},
   "outputs": [],
   "source": [
    "download_data(DATA_URL_TRAIN, os.path.join(DATA_DIR, \"train_data.txt\"))"
   ]
  },
  {
   "cell_type": "code",
   "execution_count": 5,
   "id": "77143c8f",
   "metadata": {},
   "outputs": [],
   "source": [
    "download_data(DATA_URL_TEST, os.path.join(DATA_DIR, \"test_data.txt\"))"
   ]
  },
  {
   "cell_type": "markdown",
   "id": "c7725cf5",
   "metadata": {},
   "source": [
    "Read and parse the dataset"
   ]
  },
  {
   "cell_type": "code",
   "execution_count": 6,
   "id": "0135a7ea",
   "metadata": {},
   "outputs": [
    {
     "name": "stdout",
     "output_type": "stream",
     "text": [
      "Train data shape : (32561, 123), Train label shape : (32561,)\n",
      "Test data shape : (16281, 123), Test label shape : (16281,)\n"
     ]
    }
   ],
   "source": [
    "X_train, y_train, X_test, y_test = load_svmlight_files(\n",
    "    (os.path.join(DATA_DIR, \"train_data.txt\"), os.path.join(DATA_DIR, \"test_data.txt\"))\n",
    ")\n",
    "\n",
    "print(f\"Train data shape : {X_train.shape}, Train label shape : {y_train.shape}\"\n",
    "      f\"\\nTest data shape : {X_test.shape}, Test label shape : {y_test.shape}\")\n"
   ]
  },
  {
   "cell_type": "markdown",
   "id": "c39bef79",
   "metadata": {},
   "source": [
    "Train the SVC with the linear kernel"
   ]
  },
  {
   "cell_type": "code",
   "execution_count": 7,
   "id": "1218e17d",
   "metadata": {},
   "outputs": [
    {
     "name": "stdout",
     "output_type": "stream",
     "text": [
      "Default Parameters : \n"
     ]
    },
    {
     "data": {
      "text/html": [
       "<div>\n",
       "<style scoped>\n",
       "    .dataframe tbody tr th:only-of-type {\n",
       "        vertical-align: middle;\n",
       "    }\n",
       "\n",
       "    .dataframe tbody tr th {\n",
       "        vertical-align: top;\n",
       "    }\n",
       "\n",
       "    .dataframe thead th {\n",
       "        text-align: right;\n",
       "    }\n",
       "</style>\n",
       "<table border=\"1\" class=\"dataframe\">\n",
       "  <thead>\n",
       "    <tr style=\"text-align: right;\">\n",
       "      <th></th>\n",
       "      <th>0</th>\n",
       "    </tr>\n",
       "  </thead>\n",
       "  <tbody>\n",
       "    <tr>\n",
       "      <th>C</th>\n",
       "      <td>1.0</td>\n",
       "    </tr>\n",
       "    <tr>\n",
       "      <th>break_ties</th>\n",
       "      <td>False</td>\n",
       "    </tr>\n",
       "    <tr>\n",
       "      <th>cache_size</th>\n",
       "      <td>200</td>\n",
       "    </tr>\n",
       "    <tr>\n",
       "      <th>class_weight</th>\n",
       "      <td>None</td>\n",
       "    </tr>\n",
       "    <tr>\n",
       "      <th>coef0</th>\n",
       "      <td>0.0</td>\n",
       "    </tr>\n",
       "    <tr>\n",
       "      <th>decision_function_shape</th>\n",
       "      <td>ovr</td>\n",
       "    </tr>\n",
       "    <tr>\n",
       "      <th>degree</th>\n",
       "      <td>3</td>\n",
       "    </tr>\n",
       "    <tr>\n",
       "      <th>gamma</th>\n",
       "      <td>scale</td>\n",
       "    </tr>\n",
       "    <tr>\n",
       "      <th>kernel</th>\n",
       "      <td>linear</td>\n",
       "    </tr>\n",
       "    <tr>\n",
       "      <th>max_iter</th>\n",
       "      <td>-1</td>\n",
       "    </tr>\n",
       "    <tr>\n",
       "      <th>probability</th>\n",
       "      <td>False</td>\n",
       "    </tr>\n",
       "    <tr>\n",
       "      <th>random_state</th>\n",
       "      <td>1</td>\n",
       "    </tr>\n",
       "    <tr>\n",
       "      <th>shrinking</th>\n",
       "      <td>True</td>\n",
       "    </tr>\n",
       "    <tr>\n",
       "      <th>tol</th>\n",
       "      <td>0.001</td>\n",
       "    </tr>\n",
       "    <tr>\n",
       "      <th>verbose</th>\n",
       "      <td>False</td>\n",
       "    </tr>\n",
       "  </tbody>\n",
       "</table>\n",
       "</div>"
      ],
      "text/plain": [
       "                              0\n",
       "C                           1.0\n",
       "break_ties                False\n",
       "cache_size                  200\n",
       "class_weight               None\n",
       "coef0                       0.0\n",
       "decision_function_shape     ovr\n",
       "degree                        3\n",
       "gamma                     scale\n",
       "kernel                   linear\n",
       "max_iter                     -1\n",
       "probability               False\n",
       "random_state                  1\n",
       "shrinking                  True\n",
       "tol                       0.001\n",
       "verbose                   False"
      ]
     },
     "execution_count": 7,
     "metadata": {},
     "output_type": "execute_result"
    }
   ],
   "source": [
    "clf_linear_default = SVC(kernel='linear', random_state=1)\n",
    "# show default parameters\n",
    "print(\"Default Parameters : \")\n",
    "pd.DataFrame([clf_linear_default.get_params()]).T"
   ]
  },
  {
   "cell_type": "code",
   "execution_count": 8,
   "id": "3648303b",
   "metadata": {},
   "outputs": [
    {
     "data": {
      "text/html": [
       "<div>\n",
       "<style scoped>\n",
       "    .dataframe tbody tr th:only-of-type {\n",
       "        vertical-align: middle;\n",
       "    }\n",
       "\n",
       "    .dataframe tbody tr th {\n",
       "        vertical-align: top;\n",
       "    }\n",
       "\n",
       "    .dataframe thead th {\n",
       "        text-align: right;\n",
       "    }\n",
       "</style>\n",
       "<table border=\"1\" class=\"dataframe\">\n",
       "  <thead>\n",
       "    <tr style=\"text-align: right;\">\n",
       "      <th></th>\n",
       "      <th>C</th>\n",
       "      <th>Accuracy</th>\n",
       "    </tr>\n",
       "  </thead>\n",
       "  <tbody>\n",
       "    <tr>\n",
       "      <th>0</th>\n",
       "      <td>0.01</td>\n",
       "      <td>0.844016</td>\n",
       "    </tr>\n",
       "    <tr>\n",
       "      <th>1</th>\n",
       "      <td>0.05</td>\n",
       "      <td>0.846104</td>\n",
       "    </tr>\n",
       "    <tr>\n",
       "      <th>2</th>\n",
       "      <td>0.10</td>\n",
       "      <td>0.846442</td>\n",
       "    </tr>\n",
       "    <tr>\n",
       "      <th>3</th>\n",
       "      <td>0.50</td>\n",
       "      <td>0.846934</td>\n",
       "    </tr>\n",
       "    <tr>\n",
       "      <th>4</th>\n",
       "      <td>1.00</td>\n",
       "      <td>0.847210</td>\n",
       "    </tr>\n",
       "  </tbody>\n",
       "</table>\n",
       "</div>"
      ],
      "text/plain": [
       "      C  Accuracy\n",
       "0  0.01  0.844016\n",
       "1  0.05  0.846104\n",
       "2  0.10  0.846442\n",
       "3  0.50  0.846934\n",
       "4  1.00  0.847210"
      ]
     },
     "execution_count": 8,
     "metadata": {},
     "output_type": "execute_result"
    }
   ],
   "source": [
    "C = [0.01, 0.05, 0.1, 0.5, 1]\n",
    "result_dict_linear = {}\n",
    "\n",
    "for c in C:\n",
    "    #train model and apply 3-fold cross validation\n",
    "    clf_linear = SVC(kernel='linear', C=c, random_state=1)\n",
    "    scores = cross_val_score(clf_linear, X_train, y_train, cv=3, scoring='accuracy')\n",
    "    result_dict_linear[c] = np.mean(scores)\n",
    "\n",
    "df_result_linear = pd.DataFrame([result_dict_linear]).T.reset_index().rename(columns={\"index\":\"C\", 0:\"Accuracy\"})\n",
    "df_result_linear.to_csv(os.path.join(DATA_DIR, \"linear_kernel_results.csv\"), index=False)\n",
    "df_result_linear"
   ]
  },
  {
   "cell_type": "markdown",
   "id": "1b64d17e",
   "metadata": {},
   "source": [
    "Train the SVC with the rbf kernel"
   ]
  },
  {
   "cell_type": "code",
   "execution_count": 9,
   "id": "86c718f3",
   "metadata": {},
   "outputs": [
    {
     "name": "stdout",
     "output_type": "stream",
     "text": [
      "Default Parameters : \n"
     ]
    },
    {
     "data": {
      "text/html": [
       "<div>\n",
       "<style scoped>\n",
       "    .dataframe tbody tr th:only-of-type {\n",
       "        vertical-align: middle;\n",
       "    }\n",
       "\n",
       "    .dataframe tbody tr th {\n",
       "        vertical-align: top;\n",
       "    }\n",
       "\n",
       "    .dataframe thead th {\n",
       "        text-align: right;\n",
       "    }\n",
       "</style>\n",
       "<table border=\"1\" class=\"dataframe\">\n",
       "  <thead>\n",
       "    <tr style=\"text-align: right;\">\n",
       "      <th></th>\n",
       "      <th>0</th>\n",
       "    </tr>\n",
       "  </thead>\n",
       "  <tbody>\n",
       "    <tr>\n",
       "      <th>C</th>\n",
       "      <td>1.0</td>\n",
       "    </tr>\n",
       "    <tr>\n",
       "      <th>break_ties</th>\n",
       "      <td>False</td>\n",
       "    </tr>\n",
       "    <tr>\n",
       "      <th>cache_size</th>\n",
       "      <td>200</td>\n",
       "    </tr>\n",
       "    <tr>\n",
       "      <th>class_weight</th>\n",
       "      <td>None</td>\n",
       "    </tr>\n",
       "    <tr>\n",
       "      <th>coef0</th>\n",
       "      <td>0.0</td>\n",
       "    </tr>\n",
       "    <tr>\n",
       "      <th>decision_function_shape</th>\n",
       "      <td>ovr</td>\n",
       "    </tr>\n",
       "    <tr>\n",
       "      <th>degree</th>\n",
       "      <td>3</td>\n",
       "    </tr>\n",
       "    <tr>\n",
       "      <th>gamma</th>\n",
       "      <td>scale</td>\n",
       "    </tr>\n",
       "    <tr>\n",
       "      <th>kernel</th>\n",
       "      <td>rbf</td>\n",
       "    </tr>\n",
       "    <tr>\n",
       "      <th>max_iter</th>\n",
       "      <td>-1</td>\n",
       "    </tr>\n",
       "    <tr>\n",
       "      <th>probability</th>\n",
       "      <td>False</td>\n",
       "    </tr>\n",
       "    <tr>\n",
       "      <th>random_state</th>\n",
       "      <td>1</td>\n",
       "    </tr>\n",
       "    <tr>\n",
       "      <th>shrinking</th>\n",
       "      <td>True</td>\n",
       "    </tr>\n",
       "    <tr>\n",
       "      <th>tol</th>\n",
       "      <td>0.001</td>\n",
       "    </tr>\n",
       "    <tr>\n",
       "      <th>verbose</th>\n",
       "      <td>False</td>\n",
       "    </tr>\n",
       "  </tbody>\n",
       "</table>\n",
       "</div>"
      ],
      "text/plain": [
       "                             0\n",
       "C                          1.0\n",
       "break_ties               False\n",
       "cache_size                 200\n",
       "class_weight              None\n",
       "coef0                      0.0\n",
       "decision_function_shape    ovr\n",
       "degree                       3\n",
       "gamma                    scale\n",
       "kernel                     rbf\n",
       "max_iter                    -1\n",
       "probability              False\n",
       "random_state                 1\n",
       "shrinking                 True\n",
       "tol                      0.001\n",
       "verbose                  False"
      ]
     },
     "execution_count": 9,
     "metadata": {},
     "output_type": "execute_result"
    }
   ],
   "source": [
    "clf_rbf_default = SVC(kernel='rbf', random_state=1)\n",
    "# show default parameters\n",
    "print(\"Default Parameters : \")\n",
    "pd.DataFrame([clf_rbf_default.get_params()]).T"
   ]
  },
  {
   "cell_type": "code",
   "execution_count": 25,
   "id": "9fe625f1",
   "metadata": {},
   "outputs": [
    {
     "data": {
      "text/html": [
       "<div>\n",
       "<style scoped>\n",
       "    .dataframe tbody tr th:only-of-type {\n",
       "        vertical-align: middle;\n",
       "    }\n",
       "\n",
       "    .dataframe tbody tr th {\n",
       "        vertical-align: top;\n",
       "    }\n",
       "\n",
       "    .dataframe thead th {\n",
       "        text-align: right;\n",
       "    }\n",
       "</style>\n",
       "<table border=\"1\" class=\"dataframe\">\n",
       "  <thead>\n",
       "    <tr style=\"text-align: right;\">\n",
       "      <th>Gamma</th>\n",
       "      <th>0.01</th>\n",
       "      <th>0.05</th>\n",
       "      <th>0.10</th>\n",
       "      <th>0.50</th>\n",
       "      <th>1.00</th>\n",
       "      <th>2.00</th>\n",
       "    </tr>\n",
       "    <tr>\n",
       "      <th>C</th>\n",
       "      <th></th>\n",
       "      <th></th>\n",
       "      <th></th>\n",
       "      <th></th>\n",
       "      <th></th>\n",
       "      <th></th>\n",
       "    </tr>\n",
       "  </thead>\n",
       "  <tbody>\n",
       "    <tr>\n",
       "      <th>0.01</th>\n",
       "      <td>0.759190</td>\n",
       "      <td>0.819907</td>\n",
       "      <td>0.819846</td>\n",
       "      <td>0.759190</td>\n",
       "      <td>0.759190</td>\n",
       "      <td>0.759190</td>\n",
       "    </tr>\n",
       "    <tr>\n",
       "      <th>0.05</th>\n",
       "      <td>0.831209</td>\n",
       "      <td>0.835755</td>\n",
       "      <td>0.834250</td>\n",
       "      <td>0.789165</td>\n",
       "      <td>0.759190</td>\n",
       "      <td>0.759190</td>\n",
       "    </tr>\n",
       "    <tr>\n",
       "      <th>0.10</th>\n",
       "      <td>0.837720</td>\n",
       "      <td>0.839655</td>\n",
       "      <td>0.838764</td>\n",
       "      <td>0.806118</td>\n",
       "      <td>0.761985</td>\n",
       "      <td>0.759190</td>\n",
       "    </tr>\n",
       "    <tr>\n",
       "      <th>0.50</th>\n",
       "      <td>0.842972</td>\n",
       "      <td>0.845766</td>\n",
       "      <td>0.846811</td>\n",
       "      <td>0.832161</td>\n",
       "      <td>0.789748</td>\n",
       "      <td>0.769295</td>\n",
       "    </tr>\n",
       "    <tr>\n",
       "      <th>1.00</th>\n",
       "      <td>0.844415</td>\n",
       "      <td>0.846749</td>\n",
       "      <td>0.847425</td>\n",
       "      <td>0.836614</td>\n",
       "      <td>0.798286</td>\n",
       "      <td>0.777587</td>\n",
       "    </tr>\n",
       "  </tbody>\n",
       "</table>\n",
       "</div>"
      ],
      "text/plain": [
       "Gamma      0.01      0.05      0.10      0.50      1.00      2.00\n",
       "C                                                                \n",
       "0.01   0.759190  0.819907  0.819846  0.759190  0.759190  0.759190\n",
       "0.05   0.831209  0.835755  0.834250  0.789165  0.759190  0.759190\n",
       "0.10   0.837720  0.839655  0.838764  0.806118  0.761985  0.759190\n",
       "0.50   0.842972  0.845766  0.846811  0.832161  0.789748  0.769295\n",
       "1.00   0.844415  0.846749  0.847425  0.836614  0.798286  0.777587"
      ]
     },
     "execution_count": 25,
     "metadata": {},
     "output_type": "execute_result"
    }
   ],
   "source": [
    "gamma = [0.01, 0.05, 0.1, 0.5, 1, 2]\n",
    "C = [0.01, 0.05, 0.1, 0.5, 1]\n",
    "\n",
    "result_dict_rbf = {}\n",
    "\n",
    "for g in gamma:\n",
    "    result_dict_rbf[g] = {}\n",
    "    for c in C:\n",
    "        #train model and apply 3-fold cross validation\n",
    "        clf_rbf = SVC(kernel='rbf', gamma=g, C=c, random_state=1)\n",
    "        scores = cross_val_score(clf_rbf, X_train, y_train, cv=3, scoring='accuracy')\n",
    "        result_dict_rbf[g][c] = np.mean(scores)\n",
    "\n",
    "df_result_rbf = pd.DataFrame(result_dict_rbf).rename_axis(\"C\").rename_axis(\"Gamma\", axis=1)\n",
    "df_result_rbf.to_csv(os.path.join(DATA_DIR, \"rbf_kernel_results.csv\"))\n",
    "df_result_rbf"
   ]
  },
  {
   "cell_type": "code",
   "execution_count": null,
   "id": "8f881a15",
   "metadata": {},
   "outputs": [],
   "source": []
  }
 ],
 "metadata": {
  "kernelspec": {
   "display_name": "base",
   "language": "python",
   "name": "python3"
  },
  "language_info": {
   "codemirror_mode": {
    "name": "ipython",
    "version": 3
   },
   "file_extension": ".py",
   "mimetype": "text/x-python",
   "name": "python",
   "nbconvert_exporter": "python",
   "pygments_lexer": "ipython3",
   "version": "3.13.2"
  }
 },
 "nbformat": 4,
 "nbformat_minor": 5
}
