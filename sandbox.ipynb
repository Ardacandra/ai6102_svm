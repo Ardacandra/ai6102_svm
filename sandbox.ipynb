{
 "cells": [
  {
   "cell_type": "code",
   "execution_count": 1,
   "id": "3423ea84",
   "metadata": {},
   "outputs": [],
   "source": [
    "import os\n",
    "import numpy as np\n",
    "import pandas as pd\n",
    "from sklearn.datasets import load_svmlight_file, load_svmlight_files\n",
    "from sklearn.model_selection import cross_val_score\n",
    "from sklearn.svm import SVC\n",
    "\n",
    "from src.prepare import *"
   ]
  },
  {
   "cell_type": "code",
   "execution_count": 2,
   "id": "296258a2",
   "metadata": {},
   "outputs": [],
   "source": [
    "#config\n",
    "DATA_URL_TRAIN = \"https://www.csie.ntu.edu.tw/~cjlin/libsvmtools/datasets/binary/a9a\"\n",
    "DATA_URL_TEST = \"https://www.csie.ntu.edu.tw/~cjlin/libsvmtools/datasets/binary/a9a.t\"\n",
    "\n",
    "DATA_DIR = \"data/\""
   ]
  },
  {
   "cell_type": "code",
   "execution_count": 3,
   "id": "991c0385",
   "metadata": {},
   "outputs": [],
   "source": [
    "if not os.path.exists(DATA_DIR):\n",
    "    os.makedirs(DATA_DIR)"
   ]
  },
  {
   "cell_type": "markdown",
   "id": "de1a6f7c",
   "metadata": {},
   "source": [
    "Download and store train and test dataset"
   ]
  },
  {
   "cell_type": "markdown",
   "id": "02a05ce4",
   "metadata": {},
   "source": [
    "Dataset information : \n",
    "\n",
    "- Source: UCI / Adult\n",
    "- Preprocessing: The original Adult data set has 14 features, among which six are continuous and eight are categorical. In this data set, continuous features are discretized into quantiles, and each quantile is represented by a binary feature. Also, a categorical feature with m categories is converted to m binary features. \n",
    "- Number of classes: 2\n",
    "- Number of data: 32,561 / 16,281 (testing)\n",
    "- Number of features: 123 / 123 (testing) "
   ]
  },
  {
   "cell_type": "code",
   "execution_count": 4,
   "id": "9978d731",
   "metadata": {},
   "outputs": [],
   "source": [
    "download_data(DATA_URL_TRAIN, os.path.join(DATA_DIR, \"train_data.txt\"))"
   ]
  },
  {
   "cell_type": "code",
   "execution_count": 5,
   "id": "77143c8f",
   "metadata": {},
   "outputs": [],
   "source": [
    "download_data(DATA_URL_TEST, os.path.join(DATA_DIR, \"test_data.txt\"))"
   ]
  },
  {
   "cell_type": "markdown",
   "id": "c7725cf5",
   "metadata": {},
   "source": [
    "Read and parse the dataset"
   ]
  },
  {
   "cell_type": "code",
   "execution_count": 6,
   "id": "0135a7ea",
   "metadata": {},
   "outputs": [
    {
     "name": "stdout",
     "output_type": "stream",
     "text": [
      "Train data shape : (32561, 123), Train label shape : (32561,)\n",
      "Test data shape : (16281, 123), Test label shape : (16281,)\n"
     ]
    }
   ],
   "source": [
    "X_train, y_train, X_test, y_test = load_svmlight_files(\n",
    "    (os.path.join(DATA_DIR, \"train_data.txt\"), os.path.join(DATA_DIR, \"test_data.txt\"))\n",
    ")\n",
    "\n",
    "print(f\"Train data shape : {X_train.shape}, Train label shape : {y_train.shape}\"\n",
    "      f\"\\nTest data shape : {X_test.shape}, Test label shape : {y_test.shape}\")\n"
   ]
  },
  {
   "cell_type": "markdown",
   "id": "c39bef79",
   "metadata": {},
   "source": [
    "Train the SVC with the linear kernel"
   ]
  },
  {
   "cell_type": "code",
   "execution_count": 7,
   "id": "1218e17d",
   "metadata": {},
   "outputs": [
    {
     "name": "stdout",
     "output_type": "stream",
     "text": [
      "Default Parameters : \n"
     ]
    },
    {
     "data": {
      "text/html": [
       "<div>\n",
       "<style scoped>\n",
       "    .dataframe tbody tr th:only-of-type {\n",
       "        vertical-align: middle;\n",
       "    }\n",
       "\n",
       "    .dataframe tbody tr th {\n",
       "        vertical-align: top;\n",
       "    }\n",
       "\n",
       "    .dataframe thead th {\n",
       "        text-align: right;\n",
       "    }\n",
       "</style>\n",
       "<table border=\"1\" class=\"dataframe\">\n",
       "  <thead>\n",
       "    <tr style=\"text-align: right;\">\n",
       "      <th></th>\n",
       "      <th>0</th>\n",
       "    </tr>\n",
       "  </thead>\n",
       "  <tbody>\n",
       "    <tr>\n",
       "      <th>C</th>\n",
       "      <td>1.0</td>\n",
       "    </tr>\n",
       "    <tr>\n",
       "      <th>break_ties</th>\n",
       "      <td>False</td>\n",
       "    </tr>\n",
       "    <tr>\n",
       "      <th>cache_size</th>\n",
       "      <td>200</td>\n",
       "    </tr>\n",
       "    <tr>\n",
       "      <th>class_weight</th>\n",
       "      <td>None</td>\n",
       "    </tr>\n",
       "    <tr>\n",
       "      <th>coef0</th>\n",
       "      <td>0.0</td>\n",
       "    </tr>\n",
       "    <tr>\n",
       "      <th>decision_function_shape</th>\n",
       "      <td>ovr</td>\n",
       "    </tr>\n",
       "    <tr>\n",
       "      <th>degree</th>\n",
       "      <td>3</td>\n",
       "    </tr>\n",
       "    <tr>\n",
       "      <th>gamma</th>\n",
       "      <td>scale</td>\n",
       "    </tr>\n",
       "    <tr>\n",
       "      <th>kernel</th>\n",
       "      <td>linear</td>\n",
       "    </tr>\n",
       "    <tr>\n",
       "      <th>max_iter</th>\n",
       "      <td>-1</td>\n",
       "    </tr>\n",
       "    <tr>\n",
       "      <th>probability</th>\n",
       "      <td>False</td>\n",
       "    </tr>\n",
       "    <tr>\n",
       "      <th>random_state</th>\n",
       "      <td>1</td>\n",
       "    </tr>\n",
       "    <tr>\n",
       "      <th>shrinking</th>\n",
       "      <td>True</td>\n",
       "    </tr>\n",
       "    <tr>\n",
       "      <th>tol</th>\n",
       "      <td>0.001</td>\n",
       "    </tr>\n",
       "    <tr>\n",
       "      <th>verbose</th>\n",
       "      <td>False</td>\n",
       "    </tr>\n",
       "  </tbody>\n",
       "</table>\n",
       "</div>"
      ],
      "text/plain": [
       "                              0\n",
       "C                           1.0\n",
       "break_ties                False\n",
       "cache_size                  200\n",
       "class_weight               None\n",
       "coef0                       0.0\n",
       "decision_function_shape     ovr\n",
       "degree                        3\n",
       "gamma                     scale\n",
       "kernel                   linear\n",
       "max_iter                     -1\n",
       "probability               False\n",
       "random_state                  1\n",
       "shrinking                  True\n",
       "tol                       0.001\n",
       "verbose                   False"
      ]
     },
     "execution_count": 7,
     "metadata": {},
     "output_type": "execute_result"
    }
   ],
   "source": [
    "clf_linear_default = SVC(kernel='linear', random_state=1)\n",
    "# show default parameters\n",
    "print(\"Default Parameters : \")\n",
    "pd.DataFrame([clf_linear_default.get_params()]).T"
   ]
  },
  {
   "cell_type": "code",
   "execution_count": 8,
   "id": "3648303b",
   "metadata": {},
   "outputs": [
    {
     "data": {
      "text/html": [
       "<div>\n",
       "<style scoped>\n",
       "    .dataframe tbody tr th:only-of-type {\n",
       "        vertical-align: middle;\n",
       "    }\n",
       "\n",
       "    .dataframe tbody tr th {\n",
       "        vertical-align: top;\n",
       "    }\n",
       "\n",
       "    .dataframe thead th {\n",
       "        text-align: right;\n",
       "    }\n",
       "</style>\n",
       "<table border=\"1\" class=\"dataframe\">\n",
       "  <thead>\n",
       "    <tr style=\"text-align: right;\">\n",
       "      <th></th>\n",
       "      <th>C</th>\n",
       "      <th>Accuracy</th>\n",
       "    </tr>\n",
       "  </thead>\n",
       "  <tbody>\n",
       "    <tr>\n",
       "      <th>0</th>\n",
       "      <td>0.01</td>\n",
       "      <td>0.844016</td>\n",
       "    </tr>\n",
       "    <tr>\n",
       "      <th>1</th>\n",
       "      <td>0.05</td>\n",
       "      <td>0.846104</td>\n",
       "    </tr>\n",
       "    <tr>\n",
       "      <th>2</th>\n",
       "      <td>0.10</td>\n",
       "      <td>0.846442</td>\n",
       "    </tr>\n",
       "    <tr>\n",
       "      <th>3</th>\n",
       "      <td>0.50</td>\n",
       "      <td>0.846934</td>\n",
       "    </tr>\n",
       "    <tr>\n",
       "      <th>4</th>\n",
       "      <td>1.00</td>\n",
       "      <td>0.847210</td>\n",
       "    </tr>\n",
       "  </tbody>\n",
       "</table>\n",
       "</div>"
      ],
      "text/plain": [
       "      C  Accuracy\n",
       "0  0.01  0.844016\n",
       "1  0.05  0.846104\n",
       "2  0.10  0.846442\n",
       "3  0.50  0.846934\n",
       "4  1.00  0.847210"
      ]
     },
     "execution_count": 8,
     "metadata": {},
     "output_type": "execute_result"
    }
   ],
   "source": [
    "C = [0.01, 0.05, 0.1, 0.5, 1]\n",
    "result_dict_linear = {}\n",
    "\n",
    "for c in C:\n",
    "    #train model and apply 3-fold cross validation\n",
    "    clf_linear = SVC(kernel='linear', C=c, random_state=1)\n",
    "    scores = cross_val_score(clf_linear, X_train, y_train, cv=3, scoring='accuracy')\n",
    "    result_dict_linear[c] = np.mean(scores)\n",
    "\n",
    "df_result_linear = pd.DataFrame([result_dict_linear]).T.reset_index().rename(columns={\"index\":\"C\", 0:\"Accuracy\"})\n",
    "df_result_linear.to_csv(os.path.join(DATA_DIR, \"linear_kernel_results.csv\"), index=False)\n",
    "df_result_linear"
   ]
  },
  {
   "cell_type": "code",
   "execution_count": null,
   "id": "86c718f3",
   "metadata": {},
   "outputs": [],
   "source": []
  }
 ],
 "metadata": {
  "kernelspec": {
   "display_name": "base",
   "language": "python",
   "name": "python3"
  },
  "language_info": {
   "codemirror_mode": {
    "name": "ipython",
    "version": 3
   },
   "file_extension": ".py",
   "mimetype": "text/x-python",
   "name": "python",
   "nbconvert_exporter": "python",
   "pygments_lexer": "ipython3",
   "version": "3.13.2"
  }
 },
 "nbformat": 4,
 "nbformat_minor": 5
}
